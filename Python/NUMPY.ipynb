{
  "nbformat": 4,
  "nbformat_minor": 0,
  "metadata": {
    "colab": {
      "provenance": []
    },
    "kernelspec": {
      "name": "python3",
      "display_name": "Python 3"
    },
    "language_info": {
      "name": "python"
    }
  },
  "cells": [
    {
      "cell_type": "code",
      "execution_count": null,
      "metadata": {
        "id": "l6tISZ0fLMut"
      },
      "outputs": [],
      "source": [
        "#NUMPY LIBRARY    https://www.w3schools.com/python/numpy/default.asp"
      ]
    },
    {
      "cell_type": "code",
      "source": [
        "\"\"\"NumPy is a Python library.\n",
        "\n",
        "NumPy is used for working with arrays.\n",
        "\n",
        "NumPy is short for \"Numerical Python\".\"\"\""
      ],
      "metadata": {
        "colab": {
          "base_uri": "https://localhost:8080/",
          "height": 35
        },
        "id": "x-PLMjElLP_U",
        "outputId": "e3b7e9a1-777f-4a77-9bac-10ee68ef8d0e"
      },
      "execution_count": null,
      "outputs": [
        {
          "output_type": "execute_result",
          "data": {
            "text/plain": [
              "'NumPy is a Python library.\\n\\nNumPy is used for working with arrays.\\n\\nNumPy is short for \"Numerical Python\".'"
            ],
            "application/vnd.google.colaboratory.intrinsic+json": {
              "type": "string"
            }
          },
          "metadata": {},
          "execution_count": 5
        }
      ]
    },
    {
      "cell_type": "markdown",
      "source": [
        "Why Use NumPy?\n",
        "In Python we have lists that serve the purpose of arrays, but they are slow to process.\n",
        "\n",
        "NumPy aims to provide an array object that is up to 50x faster than traditional Python lists.\n",
        "\n",
        "The array object in NumPy is called ndarray, it provides a lot of supporting functions that make working with ndarray very easy.\n",
        "\n",
        "Arrays are very frequently used in data science, where speed and resources are very important."
      ],
      "metadata": {
        "id": "BxwNC3vDU_yg"
      }
    },
    {
      "cell_type": "code",
      "source": [
        "import numpy as np"
      ],
      "metadata": {
        "id": "LOaa79ClWJF_"
      },
      "execution_count": null,
      "outputs": []
    },
    {
      "cell_type": "code",
      "source": [
        "arr=np.array([2,3,4,5,4,3,2,6,7,9]) # using list\n",
        "arr"
      ],
      "metadata": {
        "colab": {
          "base_uri": "https://localhost:8080/"
        },
        "id": "GYtCqYlzWMh3",
        "outputId": "87f45241-c788-4d58-9a67-ee90b5762493"
      },
      "execution_count": null,
      "outputs": [
        {
          "output_type": "execute_result",
          "data": {
            "text/plain": [
              "array([2, 3, 4, 5, 4, 3, 2, 6, 7, 9])"
            ]
          },
          "metadata": {},
          "execution_count": 11
        }
      ]
    },
    {
      "cell_type": "code",
      "source": [
        "np.__version__"
      ],
      "metadata": {
        "colab": {
          "base_uri": "https://localhost:8080/",
          "height": 35
        },
        "id": "qo-vd7MEWTD3",
        "outputId": "b7dc25d5-1940-4e60-88f0-215ad9e79c8d"
      },
      "execution_count": null,
      "outputs": [
        {
          "output_type": "execute_result",
          "data": {
            "text/plain": [
              "'1.23.5'"
            ],
            "application/vnd.google.colaboratory.intrinsic+json": {
              "type": "string"
            }
          },
          "metadata": {},
          "execution_count": 8
        }
      ]
    },
    {
      "cell_type": "markdown",
      "source": [
        "Create a NumPy ndarray Object\n",
        "NumPy is used to work with arrays. The array object in NumPy is called ndarray.\n",
        "We can create a NumPy ndarray object by using the array() function."
      ],
      "metadata": {
        "id": "q7gkcCRBafdB"
      }
    },
    {
      "cell_type": "code",
      "source": [
        "arr = np.array([1, 2, 3, 4, 5]) # using list\n",
        "\n",
        "print(arr)\n",
        "\n",
        "print(type(arr))\n"
      ],
      "metadata": {
        "colab": {
          "base_uri": "https://localhost:8080/"
        },
        "id": "UZp7qsWBZ_EO",
        "outputId": "17ad5f5e-7a7e-4c59-98dd-13aa2a3178d0"
      },
      "execution_count": null,
      "outputs": [
        {
          "output_type": "stream",
          "name": "stdout",
          "text": [
            "[1 2 3 4 5]\n",
            "<class 'numpy.ndarray'>\n"
          ]
        }
      ]
    },
    {
      "cell_type": "code",
      "source": [
        "arr = np.array((1, 2, 3, 4, 5)) # using tuple\n",
        "\n",
        "print(arr)\n",
        "\n",
        "print(type(arr))\n"
      ],
      "metadata": {
        "colab": {
          "base_uri": "https://localhost:8080/"
        },
        "id": "yw8de0embMZH",
        "outputId": "05ce71e1-2be0-46f7-d433-361aef4bc387"
      },
      "execution_count": null,
      "outputs": [
        {
          "output_type": "stream",
          "name": "stdout",
          "text": [
            "[1 2 3 4 5]\n",
            "<class 'numpy.ndarray'>\n"
          ]
        }
      ]
    },
    {
      "cell_type": "code",
      "source": [
        "#  Dimensions in Arrays\n",
        "   #Create a 0-D array with value 42\n",
        "D=np.array(42)\n",
        "D"
      ],
      "metadata": {
        "colab": {
          "base_uri": "https://localhost:8080/"
        },
        "id": "gqEC4cmtcSoG",
        "outputId": "c9fbe12e-efa7-417b-b7ba-572e2af1f558"
      },
      "execution_count": null,
      "outputs": [
        {
          "output_type": "execute_result",
          "data": {
            "text/plain": [
              "array(42)"
            ]
          },
          "metadata": {},
          "execution_count": 29
        }
      ]
    },
    {
      "cell_type": "markdown",
      "source": [
        "numpy.array() – Creates array from given values.\n",
        "\n",
        "numpy.zeros() – Creates array of zeros.\n",
        "\n",
        "numpy.ones() – Creates array of ones.\n",
        "\n",
        "numpy.empty() – Creates an empty array."
      ],
      "metadata": {
        "id": "iGs4_13AZb7B"
      }
    },
    {
      "cell_type": "code",
      "source": [
        "#      Create a 1-D array containing the values 1,2,3,4,5\n",
        "A=np.array([1,2,3,4,5])\n",
        "A"
      ],
      "metadata": {
        "colab": {
          "base_uri": "https://localhost:8080/"
        },
        "id": "B7E6iEX5dM_3",
        "outputId": "162c1332-c9a8-4fd3-ab84-f4724554392c"
      },
      "execution_count": null,
      "outputs": [
        {
          "output_type": "execute_result",
          "data": {
            "text/plain": [
              "array([1, 2, 3, 4, 5])"
            ]
          },
          "metadata": {},
          "execution_count": 30
        }
      ]
    },
    {
      "cell_type": "code",
      "source": [
        "type(arr)"
      ],
      "metadata": {
        "id": "54flFQymdjSs",
        "colab": {
          "base_uri": "https://localhost:8080/"
        },
        "outputId": "ee4bb090-cadf-45d8-8515-5d1be3931543"
      },
      "execution_count": null,
      "outputs": [
        {
          "output_type": "execute_result",
          "data": {
            "text/plain": [
              "numpy.ndarray"
            ]
          },
          "metadata": {},
          "execution_count": 5
        }
      ]
    },
    {
      "cell_type": "code",
      "source": [
        "#  create a 2-D array\n",
        "B=np.array([[1,2,3,4,5],[6,7,8,9,10]])\n",
        "B"
      ],
      "metadata": {
        "colab": {
          "base_uri": "https://localhost:8080/"
        },
        "id": "OlyLCBtNVLlR",
        "outputId": "29126b87-5707-44ce-939b-97626d06735a"
      },
      "execution_count": null,
      "outputs": [
        {
          "output_type": "execute_result",
          "data": {
            "text/plain": [
              "array([[ 1,  2,  3,  4,  5],\n",
              "       [ 6,  7,  8,  9, 10]])"
            ]
          },
          "metadata": {},
          "execution_count": 14
        }
      ]
    },
    {
      "cell_type": "code",
      "source": [
        "shape=(5,2)  #SHAPE=(ROWS,COLS)\n",
        "arr=np.zeros(shape)\n",
        "arr"
      ],
      "metadata": {
        "colab": {
          "base_uri": "https://localhost:8080/"
        },
        "id": "PGUXt4nnZhTw",
        "outputId": "3574c89d-ec04-4509-aca4-1f693a518f09"
      },
      "execution_count": null,
      "outputs": [
        {
          "output_type": "execute_result",
          "data": {
            "text/plain": [
              "array([[0., 0.],\n",
              "       [0., 0.],\n",
              "       [0., 0.],\n",
              "       [0., 0.],\n",
              "       [0., 0.]])"
            ]
          },
          "metadata": {},
          "execution_count": 24
        }
      ]
    },
    {
      "cell_type": "code",
      "source": [
        "shape=(5,2)  #SHAPE=(ROWS,COLS)\n",
        "arr=np.ones(shape)\n",
        "arr"
      ],
      "metadata": {
        "colab": {
          "base_uri": "https://localhost:8080/"
        },
        "id": "9CVR-nr0dkEA",
        "outputId": "51c152d8-a5c0-4c16-9a60-6cc8549fb56b"
      },
      "execution_count": null,
      "outputs": [
        {
          "output_type": "execute_result",
          "data": {
            "text/plain": [
              "array([[1., 1.],\n",
              "       [1., 1.],\n",
              "       [1., 1.],\n",
              "       [1., 1.],\n",
              "       [1., 1.]])"
            ]
          },
          "metadata": {},
          "execution_count": 25
        }
      ]
    },
    {
      "cell_type": "markdown",
      "source": [
        "numpy.array() – Creates array from given values.\n",
        "\n",
        "numpy.zeros() – Creates array of zeros.\n",
        "\n",
        "numpy.ones() – Creates array of ones.\n",
        "\n",
        "numpy.empty() – Creates an empty array.\n"
      ],
      "metadata": {
        "id": "HoYPd0kpXYB4"
      }
    },
    {
      "cell_type": "code",
      "source": [
        "#  create a 3-D array  using 2-D array\n",
        "arr=np.array([[[1,2,3],[4,5,6]],[[11,12,13],[7,8,9]]])\n",
        "arr"
      ],
      "metadata": {
        "colab": {
          "base_uri": "https://localhost:8080/"
        },
        "id": "2bKI9XNOVd2A",
        "outputId": "1ee71fc7-0a77-4e94-8ac2-5466e149edeb"
      },
      "execution_count": null,
      "outputs": [
        {
          "output_type": "execute_result",
          "data": {
            "text/plain": [
              "array([[[ 1,  2,  3],\n",
              "        [ 4,  5,  6]],\n",
              "\n",
              "       [[11, 12, 13],\n",
              "        [ 7,  8,  9]]])"
            ]
          },
          "metadata": {},
          "execution_count": 10
        }
      ]
    },
    {
      "cell_type": "code",
      "source": [
        "#we create a numpy 3D array of shape (2, 3, 4).     #shape=(matrix,rows,cols) matrix=number of two dimensional arrays\n",
        "import numpy as np\n",
        "\n",
        "# create a 3D array with shape (2, 3, 4)\n",
        "nested_list = [[[1, 2, 3, 4], [5, 6, 7, 8], [9, 10, 11, 12]],\n",
        "               [[13, 14, 15, 16], [17, 18, 19, 20], [21, 22, 23, 24]]]\n",
        "C = np.array(nested_list)\n",
        "\n",
        "print(arr)"
      ],
      "metadata": {
        "colab": {
          "base_uri": "https://localhost:8080/"
        },
        "id": "9atJY5Y4WTNp",
        "outputId": "d4798ebd-587d-47dc-b58f-a9cee72f4546"
      },
      "execution_count": null,
      "outputs": [
        {
          "output_type": "stream",
          "name": "stdout",
          "text": [
            "[[[ 1  2  3  4]\n",
            "  [ 5  6  7  8]\n",
            "  [ 9 10 11 12]]\n",
            "\n",
            " [[13 14 15 16]\n",
            "  [17 18 19 20]\n",
            "  [21 22 23 24]]]\n"
          ]
        }
      ]
    },
    {
      "cell_type": "code",
      "source": [
        "shape=(3, 2, 4)      #shape=(matrix,rows,cols)\n",
        "arr=np.zeros(shape)\n",
        "arr"
      ],
      "metadata": {
        "colab": {
          "base_uri": "https://localhost:8080/"
        },
        "id": "vlG4Dm5GX5CY",
        "outputId": "db5c3dfd-a520-439f-f584-64511be9c658"
      },
      "execution_count": null,
      "outputs": [
        {
          "output_type": "execute_result",
          "data": {
            "text/plain": [
              "array([[[0., 0., 0., 0.],\n",
              "        [0., 0., 0., 0.]],\n",
              "\n",
              "       [[0., 0., 0., 0.],\n",
              "        [0., 0., 0., 0.]],\n",
              "\n",
              "       [[0., 0., 0., 0.],\n",
              "        [0., 0., 0., 0.]]])"
            ]
          },
          "metadata": {},
          "execution_count": 19
        }
      ]
    },
    {
      "cell_type": "code",
      "source": [
        "import numpy as np\n",
        "\n",
        "# create a 3D array with shape (2, 3, 4)\n",
        "shape = (2, 3, 8)\n",
        "arr = np.zeros(shape)\n",
        "\n",
        "print(arr)"
      ],
      "metadata": {
        "colab": {
          "base_uri": "https://localhost:8080/"
        },
        "id": "nVpe7dXCYTVH",
        "outputId": "7c6d027e-592b-4edd-efa9-41d015ea3daa"
      },
      "execution_count": null,
      "outputs": [
        {
          "output_type": "stream",
          "name": "stdout",
          "text": [
            "[[[0. 0. 0. 0. 0. 0. 0. 0.]\n",
            "  [0. 0. 0. 0. 0. 0. 0. 0.]\n",
            "  [0. 0. 0. 0. 0. 0. 0. 0.]]\n",
            "\n",
            " [[0. 0. 0. 0. 0. 0. 0. 0.]\n",
            "  [0. 0. 0. 0. 0. 0. 0. 0.]\n",
            "  [0. 0. 0. 0. 0. 0. 0. 0.]]]\n"
          ]
        }
      ]
    },
    {
      "cell_type": "code",
      "source": [
        "# Check Number of Dimensions?\n",
        "print(A.ndim)\n",
        "print(B.ndim)\n",
        "print(C.ndim)\n",
        "print(D.ndim)"
      ],
      "metadata": {
        "colab": {
          "base_uri": "https://localhost:8080/"
        },
        "id": "sCD33u7vYftI",
        "outputId": "254eb248-0b04-4d89-99e2-c6ac061866bb"
      },
      "execution_count": null,
      "outputs": [
        {
          "output_type": "stream",
          "name": "stdout",
          "text": [
            "1\n",
            "2\n",
            "3\n",
            "0\n"
          ]
        }
      ]
    },
    {
      "cell_type": "markdown",
      "source": [
        "**ndim** -- checking dimension number\n",
        "\n",
        "**ndmin** -- giving dimensions that you want in your array"
      ],
      "metadata": {
        "id": "7yLg1DCwjLm5"
      }
    },
    {
      "cell_type": "markdown",
      "source": [
        "**Higher Dimensional Arrays**\n",
        "\n",
        "An array can have any number of dimensions.\n",
        "\n",
        "When the array is created, you can define the number of dimensions by using the **ndmin** argument."
      ],
      "metadata": {
        "id": "sMEK2-8_iWdB"
      }
    },
    {
      "cell_type": "code",
      "source": [
        "# Create an array with 5 dimensions and verify that it has 5 dimensions:\n",
        "E=np.array([[1,2,3,4],[7,8,9,7]],ndmin=2)  # ndmin is different from ndim\n",
        "E"
      ],
      "metadata": {
        "colab": {
          "base_uri": "https://localhost:8080/"
        },
        "id": "Wr97cqb6h7o2",
        "outputId": "12941e1b-251c-4a26-a2ae-03f88be9d3bb"
      },
      "execution_count": null,
      "outputs": [
        {
          "output_type": "execute_result",
          "data": {
            "text/plain": [
              "array([[1, 2, 3, 4],\n",
              "       [7, 8, 9, 7]])"
            ]
          },
          "metadata": {},
          "execution_count": 11
        }
      ]
    },
    {
      "cell_type": "code",
      "source": [
        "print(E[0,2])   #while calling the item every row and column indices starts with 0 only"
      ],
      "metadata": {
        "colab": {
          "base_uri": "https://localhost:8080/"
        },
        "id": "sIlMLatWipg2",
        "outputId": "0d26efbb-4dfa-47e4-a1c1-a0861f2a0ef2"
      },
      "execution_count": null,
      "outputs": [
        {
          "output_type": "stream",
          "name": "stdout",
          "text": [
            "3\n"
          ]
        }
      ]
    },
    {
      "cell_type": "code",
      "source": [
        "# i want item 8 in E array\n",
        "print(E[1,1])"
      ],
      "metadata": {
        "colab": {
          "base_uri": "https://localhost:8080/"
        },
        "id": "8W2yUF52kpm_",
        "outputId": "bf0e81c3-0247-44a0-d457-6e413d3e1184"
      },
      "execution_count": null,
      "outputs": [
        {
          "output_type": "stream",
          "name": "stdout",
          "text": [
            "8\n"
          ]
        }
      ]
    },
    {
      "cell_type": "code",
      "source": [
        "shape=(3,4,3)\n",
        "arr=np.zeros(shape)\n",
        "arr"
      ],
      "metadata": {
        "colab": {
          "base_uri": "https://localhost:8080/"
        },
        "id": "5XvHi1AynVrg",
        "outputId": "46e2e560-e500-4a23-f9b8-dd98743ea821"
      },
      "execution_count": null,
      "outputs": [
        {
          "output_type": "execute_result",
          "data": {
            "text/plain": [
              "array([[[0., 0., 0.],\n",
              "        [0., 0., 0.],\n",
              "        [0., 0., 0.],\n",
              "        [0., 0., 0.]],\n",
              "\n",
              "       [[0., 0., 0.],\n",
              "        [0., 0., 0.],\n",
              "        [0., 0., 0.],\n",
              "        [0., 0., 0.]],\n",
              "\n",
              "       [[0., 0., 0.],\n",
              "        [0., 0., 0.],\n",
              "        [0., 0., 0.],\n",
              "        [0., 0., 0.]]])"
            ]
          },
          "metadata": {},
          "execution_count": 7
        }
      ]
    },
    {
      "cell_type": "code",
      "source": [
        "print(arr.ndim)"
      ],
      "metadata": {
        "colab": {
          "base_uri": "https://localhost:8080/"
        },
        "id": "gIixeGJZnezO",
        "outputId": "f1f1384d-2829-4ffe-c069-fc0b12b25757"
      },
      "execution_count": null,
      "outputs": [
        {
          "output_type": "stream",
          "name": "stdout",
          "text": [
            "3\n"
          ]
        }
      ]
    },
    {
      "cell_type": "code",
      "source": [
        "zero=np.array(3)\n",
        "zero"
      ],
      "metadata": {
        "id": "WXh48E1YngTY",
        "colab": {
          "base_uri": "https://localhost:8080/"
        },
        "outputId": "f17b680e-4fc8-49b5-e6b3-9b2d826ea68a"
      },
      "execution_count": null,
      "outputs": [
        {
          "output_type": "execute_result",
          "data": {
            "text/plain": [
              "array(3)"
            ]
          },
          "metadata": {},
          "execution_count": 6
        }
      ]
    },
    {
      "cell_type": "code",
      "source": [
        "zero.ndim"
      ],
      "metadata": {
        "colab": {
          "base_uri": "https://localhost:8080/"
        },
        "id": "8q_pZFZGIGwr",
        "outputId": "6c87d78b-9882-4458-faa9-844ece12f697"
      },
      "execution_count": null,
      "outputs": [
        {
          "output_type": "execute_result",
          "data": {
            "text/plain": [
              "0"
            ]
          },
          "metadata": {},
          "execution_count": 7
        }
      ]
    },
    {
      "cell_type": "code",
      "source": [
        "one=np.array([3,45,66])\n",
        "print(one,one.ndim)"
      ],
      "metadata": {
        "colab": {
          "base_uri": "https://localhost:8080/"
        },
        "id": "BJSltZS0IRyO",
        "outputId": "fa514d6b-663c-4416-e124-7ec1c88a04f2"
      },
      "execution_count": null,
      "outputs": [
        {
          "output_type": "stream",
          "name": "stdout",
          "text": [
            "[ 3 45 66] 1\n"
          ]
        }
      ]
    },
    {
      "cell_type": "code",
      "source": [
        "two=np.array([[4,5,6,7],[6,7,8,9]])\n",
        "two.ndim"
      ],
      "metadata": {
        "colab": {
          "base_uri": "https://localhost:8080/"
        },
        "id": "Hh0p_3PuIn6k",
        "outputId": "3bc4ab83-9cb9-4bdc-e01e-1aec5b3242d9"
      },
      "execution_count": null,
      "outputs": [
        {
          "output_type": "execute_result",
          "data": {
            "text/plain": [
              "2"
            ]
          },
          "metadata": {},
          "execution_count": 16
        }
      ]
    },
    {
      "cell_type": "code",
      "source": [
        "three=np.array([[[1,2,3,4],[4,5,6,7]],[[6,7,8,9],[44,55,66,77]]])"
      ],
      "metadata": {
        "id": "uK_pmMkYIy3S"
      },
      "execution_count": null,
      "outputs": []
    },
    {
      "cell_type": "code",
      "source": [
        "three.ndim"
      ],
      "metadata": {
        "colab": {
          "base_uri": "https://localhost:8080/"
        },
        "id": "OHvMbty_J1fo",
        "outputId": "e28af84f-8b52-4da0-a509-7962c2e3f14f"
      },
      "execution_count": null,
      "outputs": [
        {
          "output_type": "execute_result",
          "data": {
            "text/plain": [
              "3"
            ]
          },
          "metadata": {},
          "execution_count": 19
        }
      ]
    },
    {
      "cell_type": "code",
      "source": [
        "shape=(2,3,5)\n",
        "two=np.ones(shape)"
      ],
      "metadata": {
        "id": "CtCJ_fBFJ7rg"
      },
      "execution_count": null,
      "outputs": []
    },
    {
      "cell_type": "code",
      "source": [
        "two.ndim"
      ],
      "metadata": {
        "colab": {
          "base_uri": "https://localhost:8080/"
        },
        "id": "TBURvyoqKPFz",
        "outputId": "a30c2c75-eefd-4bb8-c854-ac378157bfeb"
      },
      "execution_count": null,
      "outputs": [
        {
          "output_type": "execute_result",
          "data": {
            "text/plain": [
              "3"
            ]
          },
          "metadata": {},
          "execution_count": 29
        }
      ]
    },
    {
      "cell_type": "code",
      "source": [
        "two"
      ],
      "metadata": {
        "colab": {
          "base_uri": "https://localhost:8080/"
        },
        "id": "YC18Jv58KTUI",
        "outputId": "c55bca34-a6b7-41d1-e9e2-a087a98cf7b9"
      },
      "execution_count": null,
      "outputs": [
        {
          "output_type": "execute_result",
          "data": {
            "text/plain": [
              "array([[[1., 1., 1., 1., 1.],\n",
              "        [1., 1., 1., 1., 1.],\n",
              "        [1., 1., 1., 1., 1.]],\n",
              "\n",
              "       [[1., 1., 1., 1., 1.],\n",
              "        [1., 1., 1., 1., 1.],\n",
              "        [1., 1., 1., 1., 1.]]])"
            ]
          },
          "metadata": {},
          "execution_count": 30
        }
      ]
    },
    {
      "cell_type": "code",
      "source": [
        "print(one[1] + one[2])"
      ],
      "metadata": {
        "colab": {
          "base_uri": "https://localhost:8080/"
        },
        "id": "0pFhH4AsKesY",
        "outputId": "68127fd3-e78e-4b6b-c661-800ebb115ccf"
      },
      "execution_count": null,
      "outputs": [
        {
          "output_type": "stream",
          "name": "stdout",
          "text": [
            "111\n"
          ]
        }
      ]
    },
    {
      "cell_type": "code",
      "source": [],
      "metadata": {
        "id": "peKYOF0TMrHi"
      },
      "execution_count": null,
      "outputs": []
    }
  ]
}