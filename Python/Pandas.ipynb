{
  "nbformat": 4,
  "nbformat_minor": 0,
  "metadata": {
    "kernelspec": {
      "display_name": "Python 3",
      "language": "python",
      "name": "python3"
    },
    "language_info": {
      "codemirror_mode": {
        "name": "ipython",
        "version": 3
      },
      "file_extension": ".py",
      "mimetype": "text/x-python",
      "name": "python",
      "nbconvert_exporter": "python",
      "pygments_lexer": "ipython3",
      "version": "3.7.7"
    },
    "colab": {
      "provenance": []
    }
  },
  "cells": [
    {
      "cell_type": "markdown",
      "metadata": {
        "id": "QRioonC_AY80"
      },
      "source": [
        "# What is pandas-python? Introduction and Installation\n",
        ">Pandas is python module that makes data science easy and effective\n",
        "## Motivation\n",
        ">Weather dataset\n",
        "\n",
        "Questions?\n",
        "1. What was the maximum temparature in new york in the month of january?\n",
        "2. On which days did it rains?\n",
        "3. What was the average speed of wind during the month?\n",
        "\n",
        "## Installation\n",
        "pip install pandas"
      ]
    },
    {
      "cell_type": "code",
      "metadata": {
        "id": "AqA1-xHnAY89"
      },
      "source": [
        "import pandas as pd"
      ],
      "execution_count": null,
      "outputs": []
    },
    {
      "cell_type": "code",
      "metadata": {
        "id": "D6MCYGSu2e0u"
      },
      "source": [
        "from google.colab import drive\n",
        "drive.mount('/content/drive')"
      ],
      "execution_count": null,
      "outputs": []
    },
    {
      "cell_type": "code",
      "metadata": {
        "id": "rkE55aNO2EUm"
      },
      "source": [
        "df = pd.read_csv(\"/content/drive/My Drive/Data/nyc_weather.csv\")"
      ],
      "execution_count": null,
      "outputs": []
    },
    {
      "cell_type": "code",
      "metadata": {
        "id": "Ba_YJrpB2EUr"
      },
      "source": [
        "df.head()"
      ],
      "execution_count": null,
      "outputs": []
    },
    {
      "cell_type": "markdown",
      "metadata": {
        "id": "8f8YIszX2EUz"
      },
      "source": [
        "### 1. Using Pandas"
      ]
    },
    {
      "cell_type": "code",
      "metadata": {
        "id": "isDyPNqgAY9I"
      },
      "source": [
        "#get the maximum temparature\n",
        "df['Temperature'].max()"
      ],
      "execution_count": null,
      "outputs": []
    },
    {
      "cell_type": "code",
      "metadata": {
        "id": "llmFsslTAY9O"
      },
      "source": [
        "#to know which day it rains\n",
        "df['EST'][df['Events'] == 'Rain']"
      ],
      "execution_count": null,
      "outputs": []
    },
    {
      "cell_type": "code",
      "metadata": {
        "id": "Fw7XqmXYAY9T"
      },
      "source": [
        "#3. average wind speed\n",
        "df['WindSpeedMPH'].mean()"
      ],
      "execution_count": null,
      "outputs": []
    },
    {
      "cell_type": "markdown",
      "metadata": {
        "id": "-Puk7LqL2EVN"
      },
      "source": [
        "### 2. Without Using Pandas"
      ]
    },
    {
      "cell_type": "code",
      "metadata": {
        "id": "tJmfcXwB2EVP"
      },
      "source": [
        "_parsed_rows = []\n",
        "\n",
        "def parse_csv():\n",
        "    import csv\n",
        "    _file_path = \"/content/drive/My Drive/Data/nyc_weather.csv\"\n",
        "\n",
        "    global _parsed_rows\n",
        "    with open(_file_path, \"r\") as f:\n",
        "        reader = csv.reader(f, delimiter=',')\n",
        "        next(reader)\n",
        "        for row in reader:\n",
        "            _parsed_rows.append({\n",
        "                'date':  row[0],\n",
        "                'temperature': row[1],\n",
        "                'DewPoint': row[2],\n",
        "                'Humidity': row[3],\n",
        "                'Sea_Level_PressureIn': row[4],\n",
        "                'VisibilityMiles': row[5],\n",
        "                'WindSpeedMPH': row[6],\n",
        "                'PrecipitationIn': row[7],\n",
        "                'CloudCover': row[8],\n",
        "                'Events': row[9],\n",
        "                'WindDirDegrees': row[10]\n",
        "            })\n",
        "\n",
        "def get_max_temperature():\n",
        "    max_temp = 0\n",
        "    for row in _parsed_rows:\n",
        "        if int(row['temperature']) > max_temp:\n",
        "            max_temp = int(row['temperature'])\n",
        "    return max_temp\n",
        "\n",
        "def get_days_of_rain(event):\n",
        "    days = []\n",
        "    for row in _parsed_rows:\n",
        "        if row['Events'] == event:\n",
        "            days.append(row['date'])\n",
        "    return days\n",
        "\n",
        "def get_avg_wind_speed():\n",
        "    total = 0\n",
        "    count = 0\n",
        "    for row in _parsed_rows:\n",
        "        speed = 0 if row['WindSpeedMPH']=='' else int(row['WindSpeedMPH'])\n",
        "        total += speed\n",
        "        count += 1\n",
        "    return float(total/count)\n",
        "\n",
        "if __name__ == '__main__':\n",
        "    parse_csv()\n",
        "\n",
        "    print(\"Max Temperature is : \" + str(get_max_temperature()))\n",
        "    print(\"Days of rain : \" + str(get_days_of_rain('Rain')))\n",
        "    print(\"Average wind speed is : \" + str(get_avg_wind_speed()))"
      ],
      "execution_count": null,
      "outputs": []
    },
    {
      "cell_type": "markdown",
      "metadata": {
        "id": "bd-eUKUe52kY"
      },
      "source": [
        "# Pandas deals with the following three data structures −\n",
        "\n",
        "1. Series\n",
        "2. DataFrame\n",
        "3. Panel\n",
        "\n",
        "These data structures are built on top of Numpy array, which means they are fast.\n",
        "\n",
        "\n",
        "## Dimension & Description\n",
        "\n",
        "The best way to think of these data structures is that the higher dimensional data structure is a container of its lower dimensional data structure.\n",
        "\n",
        "For example,\n",
        "* DataFrame is a container of Series,\n",
        "* Panel is a container of DataFrame.\n",
        "\n",
        "Data Structure|\tDimensions|\tDescription\n",
        ":-----------|:------------- |:-------------\n",
        "Series |\t1\t| 1D labeled homogeneous array, size immutable.\n",
        "Data Frames\t| 2\t| General 2D labeled, size-mutable tabular structure with potentially heterogeneously typed columns.\n",
        "Panel\t| 3\t| General 3D labeled, size-mutable array.\n",
        "\n",
        "\n",
        "* Building and handling two or more dimensional arrays is a tedious task, burden is placed on the user to consider the orientation of the data set when writing functions.\n",
        "\n",
        "* But using Pandas data structures, the mental effort of the user is reduced.\n",
        "\n",
        "* **For example**, with tabular data (DataFrame) it is more semantically helpful to think of the index (the rows) and the columns rather than axis 0 and axis 1.\n",
        "\n",
        "\n",
        "## Mutability\n",
        "* All Pandas data structures are value mutable (can be changed) and except Series all are size mutable. Series is size immutable.\n",
        "\n",
        "* **Note** − DataFrame is widely used and one of the most important data structures. Panel is used much less.\n",
        "\n",
        "### Series\n",
        "Series is a one-dimensional array like structure with homogeneous data.\n",
        "\n",
        "For example, the following series is a collection of integers 10, 23, 56, …\n",
        "\n",
        "\n",
        "10 |\t23 |\t56 | \t17| \t52 |\t61 |\t73 |\t90 |\t26 | \t72\n",
        ":---|:--- |:---|:--- |:---|:--- |:---|:--- |:---|:---\n",
        "\n",
        "**Key Points**\n",
        "* Homogeneous data\n",
        "* Size Immutable\n",
        "* Values of Data Mutable\n",
        "\n",
        "\n",
        "### DataFrame\n",
        "DataFrame is a two-dimensional array with heterogeneous data. For example,\n",
        "\n",
        "Name | \tAge\t| Gender |\tRating\n",
        ":---|:--- |:---|:---\n",
        "Steve\t| 32 | \tMale\t| 3.45\n",
        "Lia\t| 28 |\tFemale |\t4.6\n",
        "Vin\t| 45 |\tMale\t| 3.9\n",
        "Katie\t| 38\t| Female |\t2.78\n",
        "\n",
        "* The table represents the data of a sales team of an organization with their overall performance rating. The data is represented in rows and columns.\n",
        "\n",
        "* Each column represents an attribute and each row represents a person.\n",
        "\n",
        "**Data Type of Columns**\n",
        "The data types of the four columns are as follows −\n",
        "\n",
        "Column |\tType\n",
        ":---|:---\n",
        "Name\t| String\n",
        "Age\t| Integer\n",
        "Gender |\tString\n",
        "Rating |\tFloat\n",
        "\n",
        "**Key Points**\n",
        "\n",
        "* Heterogeneous data\n",
        "* Size Mutable\n",
        "* Data Mutable\n",
        "\n",
        "### Panel\n",
        "\n",
        "Panel is a three-dimensional data structure with heterogeneous data.\n",
        "\n",
        "It is hard to represent the panel in graphical representation.\n",
        "\n",
        "But a panel can be illustrated as a container of DataFrame.\n",
        "\n",
        "**Key Points**\n",
        "* Heterogeneous data\n",
        "* Size Mutable\n",
        "* Data Mutable"
      ]
    },
    {
      "cell_type": "markdown",
      "metadata": {
        "id": "b9M2orPV_2pb"
      },
      "source": [
        "# Series\n",
        "Series is a one-dimensional labeled array capable of holding data of any type (integer, string, float, python objects, etc.).\n",
        "\n",
        "The axis labels are collectively called index."
      ]
    },
    {
      "cell_type": "markdown",
      "metadata": {
        "id": "Qtru_ZuoAFHu"
      },
      "source": [
        "![create-series-in-python-pandas-0.png](data:image/png;base64,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)"
      ]
    },
    {
      "cell_type": "markdown",
      "metadata": {
        "id": "hHqKhOrm9uvB"
      },
      "source": [
        "## pandas.Series\n",
        "A pandas Series can be created using the following constructor −\n",
        "\n",
        "pandas.Series( data, index, dtype, copy)\n",
        "\n",
        "\n",
        "The parameters of the constructor are as follows −\n",
        "\n",
        "Sr.No\t| Parameter & Description\n",
        ":------- | :-------\n",
        "1\t| **data**\n",
        "  | data takes various forms like ndarray, list, constants\n",
        "2\t| **index**\n",
        "  | Index values must be unique and hashable, same length as data. Default np.arrange(n) if no index is passed.\n",
        "3\t| **dtype**\n",
        " | dtype is for data type. If None, data type will be inferred\n",
        "4\t| **copy**\n",
        "  | Copy data. Default False\n",
        "\n",
        "**A series can be created using various inputs like −**\n",
        "\n",
        "* Array\n",
        "* Dict\n",
        "* Scalar value or constant\n",
        "\n"
      ]
    },
    {
      "cell_type": "markdown",
      "metadata": {
        "id": "gsnm0IiD-yvv"
      },
      "source": [
        "### Create a Series from ndarray\n",
        "If data is an ndarray, then index passed must be of the same length.\n",
        "\n",
        "If no index is passed, then by default index will be range(n) where n is array length, i.e., [0,1,2,3…. range(len(array))-1]."
      ]
    },
    {
      "cell_type": "code",
      "metadata": {
        "id": "4pJl-0b8_BeB",
        "colab": {
          "base_uri": "https://localhost:8080/"
        },
        "outputId": "f7a5c58e-acbc-43f8-ca9e-b07efe9590cb"
      },
      "source": [
        "#import the pandas library and aliasing as pd\n",
        "import pandas as pd\n",
        "import numpy as np\n",
        "data = np.array(['a','b','c','d'])\n",
        "s = pd.Series(data)\n",
        "print(s)"
      ],
      "execution_count": null,
      "outputs": [
        {
          "output_type": "stream",
          "name": "stdout",
          "text": [
            "0    a\n",
            "1    b\n",
            "2    c\n",
            "3    d\n",
            "dtype: object\n"
          ]
        }
      ]
    },
    {
      "cell_type": "markdown",
      "metadata": {
        "id": "jRNAla_d_eRk"
      },
      "source": [
        "We did not pass any index, so by default, it assigned the indexes ranging from 0 to **len(data)-1**, i.e., 0 to 3."
      ]
    },
    {
      "cell_type": "code",
      "metadata": {
        "id": "6Me2VhQ__oWc",
        "colab": {
          "base_uri": "https://localhost:8080/"
        },
        "outputId": "e5664303-5507-4eaa-ced3-c09fd0a2c463"
      },
      "source": [
        "import pandas as pd\n",
        "import numpy as np\n",
        "data = np.array(['a','b','c','d'])\n",
        "s = pd.Series(data,index=[100,101,102,103])\n",
        "print (s)"
      ],
      "execution_count": null,
      "outputs": [
        {
          "output_type": "stream",
          "name": "stdout",
          "text": [
            "100    a\n",
            "101    b\n",
            "102    c\n",
            "103    d\n",
            "dtype: object\n"
          ]
        }
      ]
    },
    {
      "cell_type": "markdown",
      "metadata": {
        "id": "aYVoHUXr_pXa"
      },
      "source": [
        "We passed the index values here. Now we can see the customized indexed values in the output."
      ]
    },
    {
      "cell_type": "markdown",
      "metadata": {
        "id": "Uksniuh3_ssB"
      },
      "source": [
        "### Create a Series from dict\n",
        "A dict can be passed as input and if no index is specified, then the dictionary keys are taken in a sorted order to construct index.\n",
        "\n",
        "If index is passed, the values in data corresponding to the labels in the index will be pulled out."
      ]
    },
    {
      "cell_type": "code",
      "metadata": {
        "id": "eaAqMb9MAuSN",
        "colab": {
          "base_uri": "https://localhost:8080/"
        },
        "outputId": "c3fe5fdf-b6af-4237-b26b-61b9d73cf65b"
      },
      "source": [
        "import pandas as pd\n",
        "import numpy as np\n",
        "data = {'a' : 0., 'b' : 1., 'c' : 2.}\n",
        "s = pd.Series(data)\n",
        "print (s)"
      ],
      "execution_count": null,
      "outputs": [
        {
          "output_type": "stream",
          "name": "stdout",
          "text": [
            "a    0.0\n",
            "b    1.0\n",
            "c    2.0\n",
            "dtype: float64\n"
          ]
        }
      ]
    },
    {
      "cell_type": "markdown",
      "metadata": {
        "id": "GRiV_DvZA18O"
      },
      "source": [
        "**Observe** − Dictionary keys are used to **construct index.**"
      ]
    },
    {
      "cell_type": "code",
      "metadata": {
        "id": "Ygm9j0V2BBCc",
        "colab": {
          "base_uri": "https://localhost:8080/"
        },
        "outputId": "f33ecc33-db18-492e-a2d3-7b5b96ac0f4c"
      },
      "source": [
        "import pandas as pd\n",
        "import numpy as np\n",
        "data = {'a' : 0., 'b' : 1., 'c' : 2.}\n",
        "s = pd.Series(data,index=['b','c','d','a'])\n",
        "print (s)"
      ],
      "execution_count": null,
      "outputs": [
        {
          "output_type": "stream",
          "name": "stdout",
          "text": [
            "b    1.0\n",
            "c    2.0\n",
            "d    NaN\n",
            "a    0.0\n",
            "dtype: float64\n"
          ]
        }
      ]
    },
    {
      "cell_type": "markdown",
      "metadata": {
        "id": "M6cGywmgBCVO"
      },
      "source": [
        "**Observe** − Index order is persisted and the missing element is filled with NaN (Not a Number)."
      ]
    },
    {
      "cell_type": "markdown",
      "metadata": {
        "id": "18uKYc6LBPSi"
      },
      "source": [
        "### Create a Series from Scalar\n",
        "If data is a scalar value, an index must be provided.\n",
        "\n",
        "The value will be repeated to match the length of index\n",
        "\n"
      ]
    },
    {
      "cell_type": "code",
      "metadata": {
        "id": "0M7-F5mBBR0o",
        "colab": {
          "base_uri": "https://localhost:8080/"
        },
        "outputId": "e3c85bd0-2bb5-4f33-d949-b435572eb406"
      },
      "source": [
        "import pandas as pd\n",
        "import numpy as np\n",
        "s = pd.Series(5, index=[0, 1, 2, 3])\n",
        "print (s)"
      ],
      "execution_count": null,
      "outputs": [
        {
          "output_type": "stream",
          "name": "stdout",
          "text": [
            "0    5\n",
            "1    5\n",
            "2    5\n",
            "3    5\n",
            "dtype: int64\n"
          ]
        }
      ]
    },
    {
      "cell_type": "markdown",
      "metadata": {
        "id": "5ZyEO4lcBcYh"
      },
      "source": [
        "### Accessing Data from Series with Position\n",
        "Data in the series can be accessed similar to that in an ndarray.\n",
        "\n",
        "**Example 1**\n",
        "\n",
        "Retrieve the first element.\n",
        "\n",
        "As we already know, the counting starts from zero for the array, which means the first element is stored at zeroth position and so on."
      ]
    },
    {
      "cell_type": "code",
      "metadata": {
        "id": "e_SlhRJjBmBz",
        "colab": {
          "base_uri": "https://localhost:8080/"
        },
        "outputId": "42cb0f21-7df8-4990-869b-5d794186b8bf"
      },
      "source": [
        "import pandas as pd\n",
        "s = pd.Series([1,2,3,4,5],index = ['a','b','c','d','e'])\n",
        "\n",
        "#retrieve the first element\n",
        "print (s[0])"
      ],
      "execution_count": null,
      "outputs": [
        {
          "output_type": "stream",
          "name": "stdout",
          "text": [
            "1\n"
          ]
        }
      ]
    },
    {
      "cell_type": "markdown",
      "metadata": {
        "id": "tfQAjNaCBvFo"
      },
      "source": [
        "**Example 2**\n",
        "\n",
        "Retrieve the first three elements in the Series.\n",
        "\n",
        "If a : is inserted in front of it, all items from that index onwards will be extracted.\n",
        "\n",
        "If two parameters (with : between them) is used, items between the two indexes (not including the stop index)"
      ]
    },
    {
      "cell_type": "code",
      "metadata": {
        "id": "Or4W6_TdBynu",
        "colab": {
          "base_uri": "https://localhost:8080/"
        },
        "outputId": "532eb3c0-c35e-4317-dd9e-aa61beb80de0"
      },
      "source": [
        "import pandas as pd\n",
        "s = pd.Series([1,2,3,4,5],index = ['a','b','c','d','e'])\n",
        "print (s)\n",
        "#retrieve the first three element\n",
        "print (s[:3])"
      ],
      "execution_count": null,
      "outputs": [
        {
          "output_type": "stream",
          "name": "stdout",
          "text": [
            "a    1\n",
            "b    2\n",
            "c    3\n",
            "d    4\n",
            "e    5\n",
            "dtype: int64\n",
            "a    1\n",
            "b    2\n",
            "c    3\n",
            "dtype: int64\n"
          ]
        }
      ]
    },
    {
      "cell_type": "markdown",
      "metadata": {
        "id": "jz7G6kjECJvx"
      },
      "source": [
        "### Retrieve Data Using Label (Index)\n",
        "A Series is like a fixed-size dict in that you can get and set values by index label.\n",
        "\n",
        "**Example 1**\n",
        "\n",
        "Retrieve a single element using index label value."
      ]
    },
    {
      "cell_type": "code",
      "metadata": {
        "id": "9K2wUXhnCM62",
        "colab": {
          "base_uri": "https://localhost:8080/"
        },
        "outputId": "d121c5de-dfdf-4bc9-d4fa-e85aed0e6791"
      },
      "source": [
        "import pandas as pd\n",
        "s = pd.Series([1,2,3,4,5],index = ['a','b','c','d','e'])\n",
        "\n",
        "#retrieve a single element\n",
        "print (s['a'])"
      ],
      "execution_count": null,
      "outputs": [
        {
          "output_type": "stream",
          "name": "stdout",
          "text": [
            "1\n"
          ]
        }
      ]
    },
    {
      "cell_type": "markdown",
      "metadata": {
        "id": "PG3Y_IKtCQyv"
      },
      "source": [
        "**Example 2**\n",
        "\n",
        "Retrieve multiple elements using a list of index label values."
      ]
    },
    {
      "cell_type": "code",
      "metadata": {
        "id": "K5rn6AUBCUCi",
        "colab": {
          "base_uri": "https://localhost:8080/"
        },
        "outputId": "753c0982-1861-43b6-fd29-3624634a894f"
      },
      "source": [
        "import pandas as pd\n",
        "s = pd.Series([1,2,3,4,5],index = ['a','b','c','d','e'])\n",
        "\n",
        "#retrieve multiple elements\n",
        "print (s[['a','c','d']])"
      ],
      "execution_count": null,
      "outputs": [
        {
          "output_type": "stream",
          "name": "stdout",
          "text": [
            "a    1\n",
            "c    3\n",
            "d    4\n",
            "dtype: int64\n"
          ]
        }
      ]
    },
    {
      "cell_type": "markdown",
      "metadata": {
        "id": "5agZgmM1CuAr"
      },
      "source": [
        "# DataFrame\n",
        "\n",
        "A Data frame is a two-dimensional data structure, i.e., data is aligned in a tabular fashion in rows and columns.\n",
        "\n",
        "### Features of DataFrame\n",
        "* Potentially columns are of different types\n",
        "* Size – Mutable\n",
        "* Labeled axes (rows and columns)\n",
        "* Can Perform Arithmetic operations on rows and columns\n",
        "\n",
        "### Structure\n",
        "Let us assume that we are creating a data frame with student’s data.\n"
      ]
    },
    {
      "cell_type": "markdown",
      "metadata": {
        "id": "3l6oC9ME-_Ha"
      },
      "source": [
        "![creating_dataframe1.png](data:image/png;base64,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)"
      ]
    },
    {
      "cell_type": "markdown",
      "metadata": {
        "id": "sXZgA7DXDXzL"
      },
      "source": [
        "You can think of it as an SQL table or a spreadsheet data representation.\n",
        "\n",
        "### pandas.DataFrame\n",
        "A pandas DataFrame can be created using the following constructor −\n",
        "\n",
        "**pandas.DataFrame( data, index, columns, dtype, copy)**\n",
        "\n",
        "The parameters of the constructor are as follows −\n",
        "\n",
        "Sr.No\t| Parameter & Description\n",
        ":-------- |:---------------\n",
        "1\t| data\n",
        "| data takes various forms like ndarray, series, map, lists, dict, constants and also another DataFrame.\n",
        "2\t| index\n",
        "| For the row labels, the Index to be used for the resulting frame is Optional Default np.arange(n) if no index is passed.\n",
        " 3\t| columns\n",
        "| For column labels, the optional default syntax is - np.arange(n). This is only true if no index is passed.\n",
        "4\t| dtype\n",
        "| Data type of each column.\n",
        "5 | copy\n",
        "| This command (or whatever it is) is used for copying of data, if the default is False.\n",
        "\n",
        "### Create DataFrame\n",
        "A pandas DataFrame can be created using various inputs like −\n",
        "\n",
        "* Lists\n",
        "* dict\n",
        "* Series\n",
        "* Numpy ndarrays\n",
        "* Another DataFrame\n",
        "\n",
        "In the subsequent sections of this chapter, we will see how to create a DataFrame using these inputs.\n",
        "\n",
        "### Create an Empty DataFrame\n",
        "A basic DataFrame, which can be created is an Empty Dataframe."
      ]
    },
    {
      "cell_type": "code",
      "metadata": {
        "id": "NyFY02oTD76g",
        "colab": {
          "base_uri": "https://localhost:8080/"
        },
        "outputId": "c26e9a64-643f-4f82-e010-1514dbb6801f"
      },
      "source": [
        "import pandas as pd\n",
        "df = pd.DataFrame()\n",
        "print (df)"
      ],
      "execution_count": null,
      "outputs": [
        {
          "output_type": "stream",
          "name": "stdout",
          "text": [
            "Empty DataFrame\n",
            "Columns: []\n",
            "Index: []\n"
          ]
        }
      ]
    },
    {
      "cell_type": "markdown",
      "metadata": {
        "id": "MV2D-XjNECi8"
      },
      "source": [
        "### Create a DataFrame from Lists\n",
        "The DataFrame can be created using a single list or a list of lists."
      ]
    },
    {
      "cell_type": "code",
      "metadata": {
        "id": "oS3Tfe0vEGEN",
        "colab": {
          "base_uri": "https://localhost:8080/"
        },
        "outputId": "59cedc78-a010-4d68-89d8-d527926575eb"
      },
      "source": [
        "import pandas as pd\n",
        "data = [1,2,3,4,5]\n",
        "df = pd.DataFrame(data)\n",
        "print (df)"
      ],
      "execution_count": null,
      "outputs": [
        {
          "output_type": "stream",
          "name": "stdout",
          "text": [
            "   0\n",
            "0  1\n",
            "1  2\n",
            "2  3\n",
            "3  4\n",
            "4  5\n"
          ]
        }
      ]
    },
    {
      "cell_type": "code",
      "metadata": {
        "id": "W8s9OgsWEeop",
        "colab": {
          "base_uri": "https://localhost:8080/"
        },
        "outputId": "0f009406-4e65-4179-a1a4-51f15ac86ca9"
      },
      "source": [
        "import pandas as pd\n",
        "data = [['Alex',10],['Bob',12],['Clarke',13]]\n",
        "df = pd.DataFrame(data,columns=['Name','Age'])\n",
        "print (df)"
      ],
      "execution_count": null,
      "outputs": [
        {
          "output_type": "stream",
          "name": "stdout",
          "text": [
            "     Name  Age\n",
            "0    Alex   10\n",
            "1     Bob   12\n",
            "2  Clarke   13\n"
          ]
        }
      ]
    },
    {
      "cell_type": "code",
      "metadata": {
        "id": "1yGfWSXcEiDP",
        "colab": {
          "base_uri": "https://localhost:8080/"
        },
        "outputId": "cde1c3d2-16e1-4f20-c2cd-d8670b10cd1b"
      },
      "source": [
        "import pandas as pd\n",
        "data = [['Alex',10],['Bob',12],['Clarke',13]]\n",
        "df = pd.DataFrame(data,columns=['Name','Age'],dtype=float)\n",
        "print (df)"
      ],
      "execution_count": null,
      "outputs": [
        {
          "output_type": "stream",
          "name": "stdout",
          "text": [
            "     Name   Age\n",
            "0    Alex  10.0\n",
            "1     Bob  12.0\n",
            "2  Clarke  13.0\n"
          ]
        },
        {
          "output_type": "stream",
          "name": "stderr",
          "text": [
            "<ipython-input-13-bd69b4b16c5e>:3: FutureWarning: Could not cast to float64, falling back to object. This behavior is deprecated. In a future version, when a dtype is passed to 'DataFrame', either all columns will be cast to that dtype, or a TypeError will be raised.\n",
            "  df = pd.DataFrame(data,columns=['Name','Age'],dtype=float)\n"
          ]
        }
      ]
    },
    {
      "cell_type": "markdown",
      "metadata": {
        "id": "rioMEIc3EnBy"
      },
      "source": [
        "**Note −** Observe, the dtype parameter changes the type of Age column to floating point."
      ]
    },
    {
      "cell_type": "markdown",
      "metadata": {
        "id": "bi7_UdwLEz6P"
      },
      "source": [
        "### Create a DataFrame from Dict of ndarrays / Lists\n",
        "All the ndarrays must be of same length. If index is passed, then the length of the index should equal to the length of the arrays.\n",
        "\n",
        "If no index is passed, then by default, index will be range(n), where **n** is the array length."
      ]
    },
    {
      "cell_type": "code",
      "metadata": {
        "id": "W9hHbTwuE4_S",
        "colab": {
          "base_uri": "https://localhost:8080/"
        },
        "outputId": "c3910a42-881a-4798-ab5c-68770e4364f3"
      },
      "source": [
        "import pandas as pd\n",
        "data = {'Name':['Tom', 'Jack', 'Steve', 'Ricky'],'Age':[28,34,29,42]}\n",
        "df = pd.DataFrame(data)\n",
        "print (df)"
      ],
      "execution_count": null,
      "outputs": [
        {
          "output_type": "stream",
          "name": "stdout",
          "text": [
            "    Name  Age\n",
            "0    Tom   28\n",
            "1   Jack   34\n",
            "2  Steve   29\n",
            "3  Ricky   42\n"
          ]
        }
      ]
    },
    {
      "cell_type": "markdown",
      "metadata": {
        "id": "Rj5eORMXE9Ya"
      },
      "source": [
        "**Note** − Observe the values 0,1,2,3. They are the default index assigned to each using the function range(n).\n",
        "\n",
        "Let us now create an indexed DataFrame using arrays\n"
      ]
    },
    {
      "cell_type": "code",
      "metadata": {
        "id": "FyINNr3jFB6G"
      },
      "source": [
        "import pandas as pd\n",
        "data = {'Name':['Tom', 'Jack', 'Steve', 'Ricky'],'Age':[28,34,29,42]}\n",
        "df = pd.DataFrame(data, index=['rank1','rank2','rank3','rank4'])\n",
        "print (df)"
      ],
      "execution_count": null,
      "outputs": []
    },
    {
      "cell_type": "markdown",
      "metadata": {
        "id": "MJVOMebaFJA1"
      },
      "source": [
        "**Note** − Observe, the index parameter assigns an index to each row.\n",
        "\n",
        "### Create a DataFrame from List of Dicts\n",
        "List of Dictionaries can be passed as input data to create a DataFrame. The dictionary keys are by default taken as column names.\n",
        "\n",
        "The following example shows how to create a DataFrame by passing a list of dictionaries"
      ]
    },
    {
      "cell_type": "code",
      "metadata": {
        "id": "Jo9rFB2LFP_m"
      },
      "source": [
        "import pandas as pd\n",
        "data = [{'a': 1, 'b': 2},{'a': 5, 'b': 10, 'c': 20}]\n",
        "df = pd.DataFrame(data)\n",
        "print (df)"
      ],
      "execution_count": null,
      "outputs": []
    },
    {
      "cell_type": "markdown",
      "metadata": {
        "id": "a_sTTtgiFUdB"
      },
      "source": [
        "**Note** − Observe, NaN (Not a Number) is appended in missing areas.\n",
        "\n",
        "\n",
        "The following example shows how to create a DataFrame by passing a list of dictionaries and the row indices."
      ]
    },
    {
      "cell_type": "code",
      "metadata": {
        "id": "Z2vfxY-eFYi6"
      },
      "source": [
        "import pandas as pd\n",
        "data = [{'a': 1, 'b': 2},{'a': 5, 'b': 10, 'c': 20}]\n",
        "df = pd.DataFrame(data, index=['first', 'second'])\n",
        "print (df)"
      ],
      "execution_count": null,
      "outputs": []
    },
    {
      "cell_type": "markdown",
      "metadata": {
        "id": "Q70sExNMFfGN"
      },
      "source": [
        "The following example shows how to create a DataFrame with a list of dictionaries, row indices, and column indices."
      ]
    },
    {
      "cell_type": "code",
      "metadata": {
        "id": "RjmrMykQFgLT"
      },
      "source": [
        "import pandas as pd\n",
        "data = [{'a': 1, 'b': 2},{'a': 5, 'b': 10, 'c': 20}]\n",
        "\n",
        "#With two column indices, values same as dictionary keys\n",
        "df1 = pd.DataFrame(data, index=['first', 'second'], columns=['a', 'b'])\n",
        "\n",
        "#With two column indices with one index with other name\n",
        "df2 = pd.DataFrame(data, index=['first', 'second'], columns=['a', 'b1'])\n",
        "print (df1)\n",
        "print (df2)"
      ],
      "execution_count": null,
      "outputs": []
    },
    {
      "cell_type": "markdown",
      "metadata": {
        "id": "wUefPsM9Fok1"
      },
      "source": [
        "**Note −** Observe, df2 DataFrame is created with a column index other than the dictionary key; thus, appended the NaN’s in place. Whereas, df1 is created with column indices same as dictionary keys, so NaN’s appended.\n",
        "\n",
        "## Create a DataFrame from Dict of Series\n",
        "Dictionary of Series can be passed to form a DataFrame. The resultant index is the union of all the series indexes passed."
      ]
    },
    {
      "cell_type": "code",
      "metadata": {
        "id": "NJtxenMeFuFm"
      },
      "source": [
        "import pandas as pd\n",
        "\n",
        "d = {'one' : pd.Series([1, 2, 3], index=['a', 'b', 'c']),\n",
        "   'two' : pd.Series([1, 2, 3, 4], index=['a', 'b', 'c', 'd'])}\n",
        "\n",
        "df = pd.DataFrame(d)\n",
        "print (df)"
      ],
      "execution_count": null,
      "outputs": []
    },
    {
      "cell_type": "markdown",
      "metadata": {
        "id": "BRgo5q_NFxLU"
      },
      "source": [
        "**Note −** Observe, for the series one, there is no label ‘d’ passed, but in the result, for the d label, NaN is appended with NaN.\n",
        "\n",
        "Let us now understand column selection, addition, and deletion through examples.\n",
        "\n",
        "### Column Selection\n",
        "We will understand this by selecting a column from the DataFrame."
      ]
    },
    {
      "cell_type": "code",
      "metadata": {
        "id": "JDkn8S6_F8dz"
      },
      "source": [
        "import pandas as pd\n",
        "\n",
        "d = {'one' : pd.Series([1, 2, 3], index=['a', 'b', 'c']),\n",
        "   'two' : pd.Series([1, 2, 3, 4], index=['a', 'b', 'c', 'd'])}\n",
        "\n",
        "df = pd.DataFrame(d)\n",
        "print (df ['one'])"
      ],
      "execution_count": null,
      "outputs": []
    },
    {
      "cell_type": "markdown",
      "metadata": {
        "id": "RrNQhqIEGBMi"
      },
      "source": [
        "### Column Addition\n",
        "We will understand this by adding a new column to an existing data frame."
      ]
    },
    {
      "cell_type": "code",
      "metadata": {
        "id": "Ieku3BC6GDA2",
        "colab": {
          "base_uri": "https://localhost:8080/"
        },
        "outputId": "238cd6b1-2fff-4626-f154-43a31c86d6ca"
      },
      "source": [
        "import pandas as pd\n",
        "\n",
        "d = {'one' : pd.Series([1, 2, 3], index=['a', 'b', 'c']),\n",
        "   'two' : pd.Series([1, 2, 3, 4], index=['a', 'b', 'c', 'd'])}\n",
        "\n",
        "df = pd.DataFrame(d)\n",
        "\n",
        "# Adding a new column to an existing DataFrame object with column label by passing new series\n",
        "\n",
        "print (\"Adding a new column by passing as Series:\")\n",
        "df['three']=pd.Series([10,20,30],index=['a','b','c'])\n",
        "print (df)\n",
        "\n",
        "print (\"Adding a new column using the existing columns in DataFrame:\")\n",
        "df['four']=df['one']+df['three']\n",
        "\n",
        "print (df)"
      ],
      "execution_count": null,
      "outputs": [
        {
          "output_type": "stream",
          "name": "stdout",
          "text": [
            "Adding a new column by passing as Series:\n",
            "   one  two  three\n",
            "a  1.0    1   10.0\n",
            "b  2.0    2   20.0\n",
            "c  3.0    3   30.0\n",
            "d  NaN    4    NaN\n",
            "Adding a new column using the existing columns in DataFrame:\n",
            "   one  two  three  four\n",
            "a  1.0    1   10.0  11.0\n",
            "b  2.0    2   20.0  22.0\n",
            "c  3.0    3   30.0  33.0\n",
            "d  NaN    4    NaN   NaN\n"
          ]
        }
      ]
    },
    {
      "cell_type": "markdown",
      "metadata": {
        "id": "KHBftXgwGNCa"
      },
      "source": [
        "### Column Deletion\n",
        "Columns can be deleted or popped; let us take an example to understand how."
      ]
    },
    {
      "cell_type": "code",
      "metadata": {
        "id": "GJMLZGKfGPpr",
        "colab": {
          "base_uri": "https://localhost:8080/"
        },
        "outputId": "28269291-2bec-49a4-9e4a-4595eb07935d"
      },
      "source": [
        "# Using the previous DataFrame, we will delete a column\n",
        "# using del function\n",
        "import pandas as pd\n",
        "\n",
        "d = {'one' : pd.Series([1, 2, 3], index=['a', 'b', 'c']),\n",
        "   'two' : pd.Series([1, 2, 3, 4], index=['a', 'b', 'c', 'd']),\n",
        "   'three' : pd.Series([10,20,30], index=['a','b','c'])}\n",
        "\n",
        "df = pd.DataFrame(d)\n",
        "print (\"Our dataframe is:\")\n",
        "print (df)\n",
        "\n",
        "# using del function\n",
        "print (\"Deleting the first column using DEL function:\")\n",
        "del (df['one'])\n",
        "print (df)\n",
        "\n",
        "# using pop function\n",
        "print (\"Deleting another column using POP function:\")\n",
        "df.pop('two')\n",
        "print (df)"
      ],
      "execution_count": null,
      "outputs": [
        {
          "output_type": "stream",
          "name": "stdout",
          "text": [
            "Our dataframe is:\n",
            "   one  two  three\n",
            "a  1.0    1   10.0\n",
            "b  2.0    2   20.0\n",
            "c  3.0    3   30.0\n",
            "d  NaN    4    NaN\n",
            "Deleting the first column using DEL function:\n",
            "   two  three\n",
            "a    1   10.0\n",
            "b    2   20.0\n",
            "c    3   30.0\n",
            "d    4    NaN\n",
            "Deleting another column using POP function:\n",
            "   three\n",
            "a   10.0\n",
            "b   20.0\n",
            "c   30.0\n",
            "d    NaN\n"
          ]
        }
      ]
    },
    {
      "cell_type": "markdown",
      "metadata": {
        "id": "Ph5_Ce9zGkNr"
      },
      "source": [
        "### Row Selection, Addition, and Deletion\n",
        "We will now understand row selection, addition and deletion through examples. Let us begin with the concept of selection.\n",
        "\n",
        "**Selection by Label**\n",
        "\n",
        "Rows can be selected by passing row label to a loc function."
      ]
    },
    {
      "cell_type": "code",
      "metadata": {
        "id": "D0b4rYFLGrrb",
        "colab": {
          "base_uri": "https://localhost:8080/"
        },
        "outputId": "976135cd-da99-4947-a892-6274b5d23e01"
      },
      "source": [
        "import pandas as pd\n",
        "\n",
        "d = {'one' : pd.Series([1, 2, 3], index=['a', 'b', 'c']),\n",
        "   'two' : pd.Series([1, 2, 3, 4], index=['a', 'b', 'c', 'd'])}\n",
        "\n",
        "df = pd.DataFrame(d)\n",
        "print (df.loc['b'])"
      ],
      "execution_count": null,
      "outputs": [
        {
          "output_type": "stream",
          "name": "stdout",
          "text": [
            "one    2.0\n",
            "two    2.0\n",
            "Name: b, dtype: float64\n"
          ]
        }
      ]
    },
    {
      "cell_type": "markdown",
      "metadata": {
        "id": "AwHe41lGGyA4"
      },
      "source": [
        "The result is a series with labels as column names of the DataFrame. And, the Name of the series is the label with which it is retrieved.\n",
        "\n",
        "**Selection by integer location**\n",
        "\n",
        "Rows can be selected by passing integer location to an iloc function."
      ]
    },
    {
      "cell_type": "code",
      "metadata": {
        "id": "Q-dbZxytG0Kz",
        "colab": {
          "base_uri": "https://localhost:8080/"
        },
        "outputId": "9f050b76-d3d1-439b-af3b-6aecfd26b8ad"
      },
      "source": [
        "import pandas as pd\n",
        "\n",
        "d = {'one' : pd.Series([1, 2, 3], index=['a', 'b', 'c']),\n",
        "   'two' : pd.Series([1, 2, 3, 4], index=['a', 'b', 'c', 'd'])}\n",
        "\n",
        "df = pd.DataFrame(d)\n",
        "print (df.iloc[2])"
      ],
      "execution_count": null,
      "outputs": [
        {
          "output_type": "stream",
          "name": "stdout",
          "text": [
            "one    3.0\n",
            "two    3.0\n",
            "Name: c, dtype: float64\n"
          ]
        }
      ]
    },
    {
      "cell_type": "markdown",
      "metadata": {
        "id": "yBryVyReG8oH"
      },
      "source": [
        "**Slice Rows**\n",
        "\n",
        "Multiple rows can be selected using ‘ : ’ operator."
      ]
    },
    {
      "cell_type": "code",
      "metadata": {
        "id": "ghNWtuKKHBVd"
      },
      "source": [
        "import pandas as pd\n",
        "\n",
        "d = {'one' : pd.Series([1, 2, 3], index=['a', 'b', 'c']),\n",
        "   'two' : pd.Series([1, 2, 3, 4], index=['a', 'b', 'c', 'd'])}\n",
        "\n",
        "df = pd.DataFrame(d)\n",
        "print (df[2:4])"
      ],
      "execution_count": null,
      "outputs": []
    },
    {
      "cell_type": "markdown",
      "metadata": {
        "id": "WluUAWQNHGCY"
      },
      "source": [
        "**Addition of Rows**\n",
        "\n",
        "Add new rows to a DataFrame using the append function. This function will append the rows at the end."
      ]
    },
    {
      "cell_type": "code",
      "metadata": {
        "id": "ez05HhY0HKAS",
        "colab": {
          "base_uri": "https://localhost:8080/"
        },
        "outputId": "83b0a820-8b2b-4419-cea8-42a2d8a5fcce"
      },
      "source": [
        "import pandas as pd\n",
        "\n",
        "df = pd.DataFrame([[1, 2], [3, 4]], columns = ['a','b'])\n",
        "df2 = pd.DataFrame([[5, 6], [7, 8]], columns = ['a','b'])\n",
        "\n",
        "df = df.append(df2)\n",
        "print (df)"
      ],
      "execution_count": null,
      "outputs": [
        {
          "output_type": "stream",
          "name": "stdout",
          "text": [
            "   a  b\n",
            "0  1  2\n",
            "1  3  4\n",
            "0  5  6\n",
            "1  7  8\n"
          ]
        },
        {
          "output_type": "stream",
          "name": "stderr",
          "text": [
            "<ipython-input-5-71b0aefc72cb>:6: FutureWarning: The frame.append method is deprecated and will be removed from pandas in a future version. Use pandas.concat instead.\n",
            "  df = df.append(df2)\n"
          ]
        }
      ]
    },
    {
      "cell_type": "markdown",
      "metadata": {
        "id": "hZ0OZJERHNgO"
      },
      "source": [
        "**Deletion of Rows**\n",
        "\n",
        "Use index label to delete or drop rows from a DataFrame. If label is duplicated, then multiple rows will be dropped.\n",
        "\n",
        "If you observe, in the above example, the labels are duplicate. Let us drop a label and will see how many rows will get dropped."
      ]
    },
    {
      "cell_type": "code",
      "metadata": {
        "id": "qDBqFlOhHSCo",
        "colab": {
          "base_uri": "https://localhost:8080/"
        },
        "outputId": "2710dfbb-86ad-44ab-a8af-0c1552e4ffbb"
      },
      "source": [
        "import pandas as pd\n",
        "\n",
        "df = pd.DataFrame([[1, 2], [3, 4]], columns = ['a','b'])\n",
        "df2 = pd.DataFrame([[5, 6], [7, 8]], columns = ['a','b'])\n",
        "\n",
        "df = df.append(df2)\n",
        "\n",
        "# Drop rows with label 0\n",
        "df = df.drop(0)\n",
        "\n",
        "print (df)"
      ],
      "execution_count": null,
      "outputs": [
        {
          "output_type": "stream",
          "name": "stdout",
          "text": [
            "   a  b\n",
            "1  3  4\n",
            "1  7  8\n"
          ]
        },
        {
          "output_type": "stream",
          "name": "stderr",
          "text": [
            "<ipython-input-6-7735d8d44d5f>:6: FutureWarning: The frame.append method is deprecated and will be removed from pandas in a future version. Use pandas.concat instead.\n",
            "  df = df.append(df2)\n"
          ]
        }
      ]
    },
    {
      "cell_type": "markdown",
      "metadata": {
        "id": "17IduqC_HZ_D"
      },
      "source": [
        "In the above example, two rows were dropped because those two contain the same label 0."
      ]
    },
    {
      "cell_type": "markdown",
      "metadata": {
        "id": "G9u04bBF7VKV"
      },
      "source": [
        "### 1. Installation"
      ]
    },
    {
      "cell_type": "markdown",
      "metadata": {
        "id": "sFpDgQKD7VKX"
      },
      "source": [
        "pip install pandas\n",
        "\n",
        "pip install jupyterlab"
      ]
    },
    {
      "cell_type": "markdown",
      "metadata": {
        "id": "W7Xxl9vg7VKZ"
      },
      "source": [
        "### 2. Loading the data"
      ]
    },
    {
      "cell_type": "code",
      "metadata": {
        "id": "I2E38PSF9W-I"
      },
      "source": [
        "from google.colab import drive\n",
        "drive.mount('/content/drive')"
      ],
      "execution_count": null,
      "outputs": []
    },
    {
      "cell_type": "code",
      "metadata": {
        "id": "EaLjR1dS7VKa"
      },
      "source": [
        "import pandas as pd\n",
        "\n",
        "data = pd.read_csv(\"/content/drive/My Drive/Data/survey_results_schema_2019.csv\")"
      ],
      "execution_count": null,
      "outputs": []
    },
    {
      "cell_type": "markdown",
      "metadata": {
        "id": "RJdSE06g7VKi"
      },
      "source": [
        "### 3. Top 5 rows"
      ]
    },
    {
      "cell_type": "code",
      "metadata": {
        "id": "fk1SIMBC7VKj"
      },
      "source": [
        "data.head()"
      ],
      "execution_count": null,
      "outputs": []
    },
    {
      "cell_type": "markdown",
      "metadata": {
        "id": "S1bZu_YP7VKo"
      },
      "source": [
        "### 4. Last 5 rows"
      ]
    },
    {
      "cell_type": "code",
      "metadata": {
        "id": "9kn6Ict87VKq"
      },
      "source": [
        "data.tail()"
      ],
      "execution_count": null,
      "outputs": []
    },
    {
      "cell_type": "markdown",
      "metadata": {
        "id": "qlbw0Q0L7VKy"
      },
      "source": [
        "### 5. Dataframe shape"
      ]
    },
    {
      "cell_type": "code",
      "metadata": {
        "id": "3Q8m3lqY7VK0"
      },
      "source": [
        "data.shape"
      ],
      "execution_count": null,
      "outputs": []
    },
    {
      "cell_type": "markdown",
      "metadata": {
        "id": "Nar9dVlt7VK5"
      },
      "source": [
        "### 6. Information about the data"
      ]
    },
    {
      "cell_type": "code",
      "metadata": {
        "id": "ZqUJBcs67VK5"
      },
      "source": [
        "data.info()"
      ],
      "execution_count": null,
      "outputs": []
    },
    {
      "cell_type": "markdown",
      "metadata": {
        "id": "UQ-aw2u-7VK_"
      },
      "source": [
        "### 7. Description of numerical features"
      ]
    },
    {
      "cell_type": "code",
      "metadata": {
        "id": "EePd1Crf7VLA"
      },
      "source": [
        "data.describe()"
      ],
      "execution_count": null,
      "outputs": []
    },
    {
      "cell_type": "markdown",
      "metadata": {
        "id": "aAQGQLEy7VLI"
      },
      "source": [
        "### 8. Printing the column names"
      ]
    },
    {
      "cell_type": "code",
      "metadata": {
        "id": "k8iS87Dd7VLJ"
      },
      "source": [
        "data.columns"
      ],
      "execution_count": null,
      "outputs": []
    },
    {
      "cell_type": "code",
      "metadata": {
        "id": "zzyj2SP67VLN"
      },
      "source": [
        "schema = pd.read_csv('/content/drive/My Drive/Data/survey_results_schema_2019.csv')"
      ],
      "execution_count": null,
      "outputs": []
    },
    {
      "cell_type": "code",
      "metadata": {
        "id": "VUmIh3ZH7VLS"
      },
      "source": [
        "schema"
      ],
      "execution_count": null,
      "outputs": []
    },
    {
      "cell_type": "code",
      "metadata": {
        "id": "_2oCU7KH7VLY"
      },
      "source": [
        "pd.set_option('display.max_rows',85)"
      ],
      "execution_count": null,
      "outputs": []
    },
    {
      "cell_type": "markdown",
      "metadata": {
        "id": "9-drG9U3TwNB"
      },
      "source": [
        "## Basic Pandas Concept Exercises"
      ]
    },
    {
      "cell_type": "code",
      "metadata": {
        "id": "cHHUFbLFTwM9"
      },
      "source": [
        "sales = [100,130,119,92,35]\n",
        "customer_account = ['B100','J101','X102','P103','R104']\n",
        "city = ['BOS','LA','NYC','SF','CHI']"
      ],
      "execution_count": null,
      "outputs": []
    },
    {
      "cell_type": "markdown",
      "metadata": {
        "id": "0VhkInt6TwM8"
      },
      "source": [
        "#### Create a DataFrame with the data above"
      ]
    },
    {
      "cell_type": "code",
      "metadata": {
        "id": "nzUWpWS-TwM6"
      },
      "source": [],
      "execution_count": null,
      "outputs": []
    },
    {
      "cell_type": "markdown",
      "metadata": {
        "id": "tmYB4B32TwMy"
      },
      "source": [
        "#### What is the name of the first column?"
      ]
    },
    {
      "cell_type": "code",
      "metadata": {
        "id": "5Rogy8ehTwMn"
      },
      "source": [],
      "execution_count": null,
      "outputs": []
    },
    {
      "cell_type": "markdown",
      "metadata": {
        "id": "_SA2hdsLTwMl"
      },
      "source": [
        "#### Sort the DataFrame by city in descending order (check the documentation for sort)"
      ]
    },
    {
      "cell_type": "code",
      "metadata": {
        "id": "qpE0t45cTwMY"
      },
      "source": [],
      "execution_count": null,
      "outputs": []
    },
    {
      "cell_type": "markdown",
      "metadata": {
        "id": "tY7HNEUDTwMW"
      },
      "source": [
        "#### Which customer is in the last row of the DataFrame?"
      ]
    },
    {
      "cell_type": "code",
      "metadata": {
        "id": "GWlpTsEYTwL8"
      },
      "source": [],
      "execution_count": null,
      "outputs": []
    },
    {
      "cell_type": "markdown",
      "metadata": {
        "id": "EPMQ69METwLz"
      },
      "source": [
        "#### Reorder the columns with customer in the first column"
      ]
    },
    {
      "cell_type": "code",
      "metadata": {
        "id": "ElacSbWiTwLk"
      },
      "source": [],
      "execution_count": null,
      "outputs": []
    }
  ]
}